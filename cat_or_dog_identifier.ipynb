{
 "cells": [
  {
   "cell_type": "markdown",
   "metadata": {},
   "source": [
    "### Imports"
   ]
  },
  {
   "cell_type": "code",
   "execution_count": 5,
   "metadata": {},
   "outputs": [
    {
     "name": "stdout",
     "output_type": "stream",
     "text": [
      "19997 5000\n",
      "12500\n"
     ]
    }
   ],
   "source": [
    "import pandas as pd\n",
    "from sklearn.model_selection import train_test_split\n",
    "import os\n",
    "\n",
    "# Project path\n",
    "cwd = os.getcwd()\n",
    "data_dir = os.path.join(cwd, 'data/')\n",
    "\n",
    "images_data = pd.read_csv(cwd+\"/images_data.csv\")\n",
    "images_data['label'] = images_data['label'].astype(str)\n",
    "\n",
    "train_data = images_data.loc[images_data['classes']=='train']\n",
    "img_test = images_data.loc[images_data['classes']=='test']\n",
    "\n",
    "# random_state保证每次分割都一样\n",
    "img_train, img_valid = train_test_split(train_data, test_size=0.2,random_state = 0)\n",
    "print(len(img_train), len(img_valid))\n",
    "print(len(img_test))"
   ]
  },
  {
   "cell_type": "code",
   "execution_count": 6,
   "metadata": {},
   "outputs": [
    {
     "data": {
      "text/html": [
       "<div>\n",
       "<style>\n",
       "    .dataframe thead tr:only-child th {\n",
       "        text-align: right;\n",
       "    }\n",
       "\n",
       "    .dataframe thead th {\n",
       "        text-align: left;\n",
       "    }\n",
       "\n",
       "    .dataframe tbody tr th {\n",
       "        vertical-align: top;\n",
       "    }\n",
       "</style>\n",
       "<table border=\"1\" class=\"dataframe\">\n",
       "  <thead>\n",
       "    <tr style=\"text-align: right;\">\n",
       "      <th></th>\n",
       "      <th>classes</th>\n",
       "      <th>full_path</th>\n",
       "      <th>label</th>\n",
       "      <th>width</th>\n",
       "      <th>height</th>\n",
       "      <th>ratio</th>\n",
       "    </tr>\n",
       "  </thead>\n",
       "  <tbody>\n",
       "    <tr>\n",
       "      <th>33982</th>\n",
       "      <td>train</td>\n",
       "      <td>/Users/honghuanghui/MLClass/src/capstone/proje...</td>\n",
       "      <td>1</td>\n",
       "      <td>302</td>\n",
       "      <td>404</td>\n",
       "      <td>0.747525</td>\n",
       "    </tr>\n",
       "    <tr>\n",
       "      <th>14539</th>\n",
       "      <td>train</td>\n",
       "      <td>/Users/honghuanghui/MLClass/src/capstone/proje...</td>\n",
       "      <td>0</td>\n",
       "      <td>375</td>\n",
       "      <td>499</td>\n",
       "      <td>0.751503</td>\n",
       "    </tr>\n",
       "    <tr>\n",
       "      <th>30594</th>\n",
       "      <td>train</td>\n",
       "      <td>/Users/honghuanghui/MLClass/src/capstone/proje...</td>\n",
       "      <td>1</td>\n",
       "      <td>374</td>\n",
       "      <td>500</td>\n",
       "      <td>0.748000</td>\n",
       "    </tr>\n",
       "    <tr>\n",
       "      <th>13049</th>\n",
       "      <td>train</td>\n",
       "      <td>/Users/honghuanghui/MLClass/src/capstone/proje...</td>\n",
       "      <td>1</td>\n",
       "      <td>374</td>\n",
       "      <td>500</td>\n",
       "      <td>0.748000</td>\n",
       "    </tr>\n",
       "    <tr>\n",
       "      <th>30529</th>\n",
       "      <td>train</td>\n",
       "      <td>/Users/honghuanghui/MLClass/src/capstone/proje...</td>\n",
       "      <td>1</td>\n",
       "      <td>499</td>\n",
       "      <td>400</td>\n",
       "      <td>1.247500</td>\n",
       "    </tr>\n",
       "  </tbody>\n",
       "</table>\n",
       "</div>"
      ],
      "text/plain": [
       "      classes                                          full_path label  width  \\\n",
       "33982   train  /Users/honghuanghui/MLClass/src/capstone/proje...     1    302   \n",
       "14539   train  /Users/honghuanghui/MLClass/src/capstone/proje...     0    375   \n",
       "30594   train  /Users/honghuanghui/MLClass/src/capstone/proje...     1    374   \n",
       "13049   train  /Users/honghuanghui/MLClass/src/capstone/proje...     1    374   \n",
       "30529   train  /Users/honghuanghui/MLClass/src/capstone/proje...     1    499   \n",
       "\n",
       "       height     ratio  \n",
       "33982     404  0.747525  \n",
       "14539     499  0.751503  \n",
       "30594     500  0.748000  \n",
       "13049     500  0.748000  \n",
       "30529     400  1.247500  "
      ]
     },
     "execution_count": 6,
     "metadata": {},
     "output_type": "execute_result"
    }
   ],
   "source": [
    "img_train.head()"
   ]
  },
  {
   "cell_type": "code",
   "execution_count": 7,
   "metadata": {},
   "outputs": [
    {
     "name": "stdout",
     "output_type": "stream",
     "text": [
      "Found 19997 validated image filenames belonging to 2 classes.\n",
      "Found 5000 validated image filenames belonging to 2 classes.\n"
     ]
    }
   ],
   "source": [
    "from keras.preprocessing.image import ImageDataGenerator\n",
    "\n",
    "target_image_size = (224, 224)\n",
    "\n",
    "img_gen = ImageDataGenerator(rescale=1.0/255)\n",
    "train_img_generator = img_gen.flow_from_dataframe(\n",
    "                                dataframe=img_train,\n",
    "                                directory=data_dir+'train',\n",
    "                                x_col='full_path',\n",
    "                                y_col='label',\n",
    "                                target_size=target_image_size,\n",
    "                                class_mode='binary',\n",
    "                                batch_size=100\n",
    "                                )\n",
    "\n",
    "validation_img_generator = img_gen.flow_from_dataframe(\n",
    "                                dataframe=img_valid,\n",
    "                                directory=data_dir+'train',\n",
    "                                x_col='full_path',\n",
    "                                y_col='label',\n",
    "                                target_size=target_image_size,\n",
    "                                class_mode='binary',\n",
    "                                batch_size=100)"
   ]
  },
  {
   "cell_type": "code",
   "execution_count": null,
   "metadata": {},
   "outputs": [],
   "source": [
    "def train_func(loss_name=\"binary_crossentropy\", optimizer_name=\"adam\"):\n",
    "    base_model = ResNet50(input_tensor=Input((224, 224, 3)), weights='imagenet',\n",
    "                          include_top=False)\n",
    "    for layer in base_model.layers:\n",
    "        layer.trainable = False\n",
    "    x = GlobalAveragePooling2D()(base_model.output)\n",
    "    x = Dropout(0.5)(x)\n",
    "    x = Dense(1, activation='sigmoid')(x)\n",
    "    model = Model(base_model.input, x)\n",
    "    model.compile(loss=loss_name, optimizer=optimizer_name, metrics=['accuracy'])\n",
    "    best_model = \n",
    "        ModelCheckpoint(\"resnet_best_{}_{}.h5\".format(loss_name, optimizer_name),\n",
    "                        monitor='val_acc', verbose=0, save_best_only=True)\n",
    "        tensor_log = \"./resnet_best_{}_{}_tensor_log\".format(loss_name, optimizer_name)\n",
    "        return model, best_model, tensor_log\n",
    "    "
   ]
  },
  {
   "cell_type": "code",
   "execution_count": null,
   "metadata": {},
   "outputs": [],
   "source": [
    "model, best_model, tensor_log = train_func(\"binary_crossentropy\", \"adam\")\n",
    "model.fit_generator(\n",
    "        train_img_generator,\n",
    "        samples_per_epoch=2048,\n",
    "        nb_epoch=50,\n",
    "        validation_data=validation_img_generator,\n",
    "        nb_val_samples=1024,\n",
    "        callback=[best_model, TensorBoard(log_dir=tensor_log)])"
   ]
  },
  {
   "cell_type": "code",
   "execution_count": null,
   "metadata": {},
   "outputs": [],
   "source": []
  },
  {
   "cell_type": "code",
   "execution_count": null,
   "metadata": {},
   "outputs": [],
   "source": []
  },
  {
   "cell_type": "code",
   "execution_count": null,
   "metadata": {},
   "outputs": [],
   "source": []
  },
  {
   "cell_type": "code",
   "execution_count": null,
   "metadata": {},
   "outputs": [],
   "source": []
  },
  {
   "cell_type": "code",
   "execution_count": null,
   "metadata": {},
   "outputs": [],
   "source": []
  },
  {
   "cell_type": "code",
   "execution_count": null,
   "metadata": {},
   "outputs": [],
   "source": []
  },
  {
   "cell_type": "code",
   "execution_count": null,
   "metadata": {},
   "outputs": [],
   "source": []
  },
  {
   "cell_type": "code",
   "execution_count": null,
   "metadata": {},
   "outputs": [],
   "source": []
  }
 ],
 "metadata": {
  "kernelspec": {
   "display_name": "Python 3.6.10 64-bit ('py3': conda)",
   "language": "python",
   "name": "python361064bitpy3condaf70d5dcfaf46432cb1f400b998a35a4a"
  },
  "language_info": {
   "codemirror_mode": {
    "name": "ipython",
    "version": 3
   },
   "file_extension": ".py",
   "mimetype": "text/x-python",
   "name": "python",
   "nbconvert_exporter": "python",
   "pygments_lexer": "ipython3",
   "version": "3.6.10"
  }
 },
 "nbformat": 4,
 "nbformat_minor": 4
}
